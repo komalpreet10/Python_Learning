{
 "cells": [
  {
   "cell_type": "code",
   "execution_count": 25,
   "id": "631d6479",
   "metadata": {},
   "outputs": [
    {
     "data": {
      "text/plain": [
       "[1, 4, 27, 16]"
      ]
     },
     "execution_count": 25,
     "metadata": {},
     "output_type": "execute_result"
    }
   ],
   "source": [
    "list(map(lambda x:x**2 if x%2==0 else x**3,list_names))"
   ]
  },
  {
   "cell_type": "code",
   "execution_count": 26,
   "id": "ff318715",
   "metadata": {},
   "outputs": [
    {
     "name": "stdout",
     "output_type": "stream",
     "text": [
      "[10, 1, 11, 29, 876, 768, 92]\n"
     ]
    }
   ],
   "source": [
    "#Write a Python program to remove duplicate element from a list using loop.\n",
    "#Input:- [10,1,11,1,29,876,768,10,11,1,92,29,876]\n",
    "#Output:- [10,1,11,29,876,768,92]\n",
    "\n",
    "input_list = [10,1,11,1,29,876,768,10,11,1,92,29,876]\n",
    "output_list = []\n",
    "for i in input_list:\n",
    "    if i not in output_list:\n",
    "        output_list.append(i)\n",
    "print(output_list)    "
   ]
  },
  {
   "cell_type": "code",
   "execution_count": 29,
   "id": "ef1fb351",
   "metadata": {},
   "outputs": [
    {
     "name": "stdout",
     "output_type": "stream",
     "text": [
      "List is empty\n",
      "List is not empty\n"
     ]
    }
   ],
   "source": [
    "#Write a Python program to check a list is empty or not?\n",
    "#Input:- []\n",
    "#Output:- List is empty\n",
    "#Input:- [10,20,30]\n",
    "#Output:- List is not empty\n",
    "\n",
    "def check_empty_list(input_list):\n",
    "    if len(input_list) == 0:\n",
    "        print('List is empty')\n",
    "    else:\n",
    "        print('List is not empty')\n",
    "\n",
    "input_list_1 = []\n",
    "input_list_2 = [10,20,30]\n",
    "check_empty_list(input_list_1)\n",
    "check_empty_list(input_list_2)"
   ]
  },
  {
   "cell_type": "code",
   "execution_count": 30,
   "id": "a1e46363",
   "metadata": {},
   "outputs": [
    {
     "name": "stdout",
     "output_type": "stream",
     "text": [
      "[10, 10.2, (10+20j), 'Python', [10, 20], (10, 20)]\n"
     ]
    }
   ],
   "source": [
    "#Write a Python program to copy a list using loop.\n",
    "#inp_lst = [10,10.20,10+20j, 'Python', [10,20], (10,20)]\n",
    "#out_lst = [10,10.20,10+20j, 'Python', [10,20], (10,20)]\n",
    "\n",
    "input_list = [10,10.20,10+20j, 'Python', [10,20], (10,20)]\n",
    "output_list = []\n",
    "\n",
    "for i in input_list:\n",
    "    output_list.append(i)\n",
    "print(output_list)"
   ]
  },
  {
   "cell_type": "code",
   "execution_count": 32,
   "id": "41253347",
   "metadata": {},
   "outputs": [
    {
     "name": "stdout",
     "output_type": "stream",
     "text": [
      "['much', 'wood', 'would', 'woodchuck', 'chuck', 'could']\n"
     ]
    }
   ],
   "source": [
    "#Write a Python program to find the list of words that are longer than or equal to 4 from a given string.\n",
    "#Input:- 'How much wood would a woodchuck chuck if a woodchuck could chuck wood'\n",
    "#Output:- ['much', 'wood', 'would', 'woodchuck', 'chuck', 'could']\n",
    "#Note:- Duplicate should be avoided.\n",
    "\n",
    "output_list = []\n",
    "input_string = 'How much wood would a woodchuck chuck if a woodchuck could chuck wood'\n",
    "input_list = input_string.split()\n",
    "for i in input_list:\n",
    "    if i not in output_list and len(i)>=4:\n",
    "        output_list.append(i)\n",
    "print(output_list)"
   ]
  },
  {
   "cell_type": "code",
   "execution_count": 34,
   "id": "aa682e57",
   "metadata": {},
   "outputs": [
    {
     "data": {
      "text/plain": [
       "True"
      ]
     },
     "execution_count": 34,
     "metadata": {},
     "output_type": "execute_result"
    }
   ],
   "source": [
    "#Write a Python program which takes two list as input and returns True if they have at least 3 common elements.\n",
    "#inp_lst1 = [10,20,'Python', 10.20, 10+20j, [10,20,30], (10,20,30)]\n",
    "#inp_lst2 = [(10,20,30),1,20+3j,100.2, 10+20j, [10,20,30],'Python']\n",
    "\n",
    "inp_lst1 = [10,20,'Python', 10.20, 10+20j, [10,20,30], (10,20,30)]\n",
    "inp_lst2 = [(10,20,30),1,20+3j,100.2, 10+20j, [10,20,30],'Python']\n",
    "\n",
    "\n",
    "def find_common_elements(inp_lst1,inp_lst2):\n",
    "    count = 0\n",
    "    for i in inp_lst1:\n",
    "        for j in inp_lst2:\n",
    "            if i == j:\n",
    "                count+=1\n",
    "    if count >= 3:\n",
    "        return True\n",
    "\n",
    "find_common_elements(inp_lst1,inp_lst2)"
   ]
  },
  {
   "cell_type": "code",
   "execution_count": 39,
   "id": "3774a1c2",
   "metadata": {},
   "outputs": [
    {
     "name": "stdout",
     "output_type": "stream",
     "text": [
      "Input number of rows: 4\n",
      "Input number of columns: 4\n",
      "[[0, 0, 0, 0], [0, 1, 2, 3], [0, 2, 4, 6], [0, 3, 6, 9]]\n"
     ]
    }
   ],
   "source": [
    "#Write a Python program to create a 4X4 2D matrix with below elements using loop and list comprehension both.\n",
    "#Output:- [[0,0,0,0],[0,1,2,3],[0,2,4,6],[0,3,6,9]]\n",
    "\n",
    "row_num = int(input(\"Input number of rows: \"))\n",
    "col_num = int(input(\"Input number of columns: \"))\n",
    "final_list = [[0 for col in range(col_num)] for row in range(row_num)]\n",
    "for row in range(row_num):\n",
    "    for col in range(col_num):\n",
    "        final_list[row][col]= row*col\n",
    "\n",
    "print(final_list)"
   ]
  },
  {
   "cell_type": "code",
   "execution_count": 43,
   "id": "9e3200c7",
   "metadata": {},
   "outputs": [
    {
     "name": "stdout",
     "output_type": "stream",
     "text": [
      "Input number of rows: 6\n",
      "Input number of columns: 4\n",
      "[[0, 0, 0, 0], [0, 1, 2, 3], [0, 2, 4, 6], [0, 3, 6, 9], [0, 4, 8, 12], [0, 5, 10, 15]]\n"
     ]
    }
   ],
   "source": [
    "#Write a Python program to create a 3X4X6 3D matrix wiith below elements using loop\n",
    "#Output:- \n",
    "# [\n",
    "#     [[0,0,0,0,0,0],[0,0,0,0,0,0],[0,0,0,0,0,0],[0,0,0,0,0,0]],\n",
    "#     [[0,0,0,0,0,0],[1,1,1,1,1,1],[2,2,2,2,2,2],[3,3,3,3,3,3]],\n",
    "#     [[0,0,0,0,0,0],[2,2,2,2,2,2],[4,4,4,4,4,4],[6,6,6,6,6,6]]\n",
    "# ]\n",
    "row_num = int(input(\"Input number of rows: \"))\n",
    "col_num = int(input(\"Input number of columns: \"))\n",
    "final_list = [[ [0 for col in range(6)]  for col in range(4)] for row in range(6)]\n",
    "for row in range(row_num):\n",
    "    for col in range(col_num):\n",
    "        final_list[row][col]= row*col\n",
    "\n",
    "print(final_list)"
   ]
  },
  {
   "cell_type": "code",
   "execution_count": 46,
   "id": "1e6353c7",
   "metadata": {},
   "outputs": [
    {
     "name": "stdout",
     "output_type": "stream",
     "text": [
      "[21, 87, 45, 33, 1]\n"
     ]
    }
   ],
   "source": [
    "#Write a Python program which takes a list of numbers as input and prints a new list after removing even numbers from it.\n",
    "#Input:- [10,21,22,98,87,45,33,1,2,100]\n",
    "#Output:- [21,87,45,33,1]\n",
    "\n",
    "input_list = [10,21,22,98,87,45,33,1,2,100]\n",
    "output_list = []\n",
    "for i in input_list:\n",
    "    if i%2!= 0:\n",
    "        output_list.append(i)\n",
    "print(output_list)"
   ]
  },
  {
   "cell_type": "code",
   "execution_count": 47,
   "id": "962bae62",
   "metadata": {},
   "outputs": [
    {
     "name": "stdout",
     "output_type": "stream",
     "text": [
      "[98, 45, 1, 33, 2, 100, 10, 87, 22, 21]\n"
     ]
    }
   ],
   "source": [
    "#Write a Python program which takes a list from the user and prints it after reshuffling the elements of the list.\n",
    "#Input:- [10,21,22,98,87,45,33,1,2,100]\n",
    "#Output:- [1,87,21,10,33,2,100,45,98,22] (It may be any randon list but with same elements)\n",
    "\n",
    "from random import shuffle\n",
    "input_list = [10,21,22,98,87,45,33,1,2,100]\n",
    "shuffle(input_list)\n",
    "print(input_list)"
   ]
  },
  {
   "cell_type": "code",
   "execution_count": 54,
   "id": "df2b638d",
   "metadata": {},
   "outputs": [],
   "source": [
    "fruits = [\"banana\", \"orange\", \"grape\"]\n",
    "fruits[0] = \"mango\"\n",
    "fruits = [\"banana\", \"orange\", \"grape\"]\n",
    "# assert [__] == fruits  #replace __ with expected contents of list\n",
    "\n",
    "\n",
    "fruits = [\"banana\", \"orange\", \"grape\"]\n",
    "assert [] == fruits[0:0]\n",
    "\n",
    "#begin : end\n",
    "assert ['banana', 'orange'] == fruits[0:2]\n",
    "assert [\"banana\", \"orange\", \"grape\"] == fruits[0:5]\n",
    "assert [\"orange\"] == fruits[1:-1]\n",
    "\n",
    "# begin :\n",
    "assert [\"banana\", \"orange\", \"grape\"] == fruits[0:]\n",
    "assert [\"grape\"] == fruits[2:]\n",
    "assert [\"banana\", \"orange\", \"grape\"] == fruits[0:]\n",
    "\n",
    "#: end\n",
    "assert [] == fruits[:0]\n",
    "assert [\"banana\", \"orange\"] == fruits[:2]\n",
    "assert [\"banana\", \"orange\", \"grape\"] == fruits[:5]\n",
    "\n",
    "# note the invariant\n",
    "assert [\"banana\", \"orange\", \"grape\"] == fruits[:1] + fruits[1:]"
   ]
  }
 ],
 "metadata": {
  "kernelspec": {
   "display_name": "Python 3 (ipykernel)",
   "language": "python",
   "name": "python3"
  },
  "language_info": {
   "codemirror_mode": {
    "name": "ipython",
    "version": 3
   },
   "file_extension": ".py",
   "mimetype": "text/x-python",
   "name": "python",
   "nbconvert_exporter": "python",
   "pygments_lexer": "ipython3",
   "version": "3.9.13"
  }
 },
 "nbformat": 4,
 "nbformat_minor": 5
}
